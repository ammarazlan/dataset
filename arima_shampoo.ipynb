{
  "nbformat": 4,
  "nbformat_minor": 0,
  "metadata": {
    "colab": {
      "name": "arima-shampoo.ipynb",
      "version": "0.3.2",
      "provenance": [],
      "include_colab_link": true
    },
    "kernelspec": {
      "name": "python3",
      "display_name": "Python 3"
    }
  },
  "cells": [
    {
      "cell_type": "markdown",
      "metadata": {
        "id": "view-in-github",
        "colab_type": "text"
      },
      "source": [
        "<a href=\"https://colab.research.google.com/github/ammarazlan/dataset/blob/master/arima_shampoo.ipynb\" target=\"_parent\"><img src=\"https://colab.research.google.com/assets/colab-badge.svg\" alt=\"Open In Colab\"/></a>"
      ]
    },
    {
      "metadata": {
        "id": "MyaxH4ODhNlj",
        "colab_type": "code",
        "colab": {
          "base_uri": "https://localhost:8080/",
          "height": 445
        },
        "outputId": "311f5b6f-6d49-41e9-b0e6-36b53d7e1981"
      },
      "cell_type": "code",
      "source": [
        "# How to Grid Search ARIMA Model Hyperparameters with Python\n",
        "# https://machinelearningmastery.com/grid-search-arima-hyperparameters-with-python/\n",
        "\n",
        "import warnings\n",
        "from pandas import read_csv\n",
        "from pandas import datetime\n",
        "from statsmodels.tsa.arima_model import ARIMA\n",
        "from sklearn.metrics import mean_squared_error\n",
        "\n",
        "# evaluate an ARIMA model for a given order (p,d,q)\n",
        "def evaluate_arima_model(X, arima_order):\n",
        "\t# prepare training dataset\n",
        "\ttrain_size = int(len(X) * 0.66)\n",
        "\ttrain, test = X[0:train_size], X[train_size:]\n",
        "\thistory = [x for x in train]\n",
        "\t# make predictions\n",
        "\tpredictions = list()\n",
        "\tfor t in range(len(test)):\n",
        "\t\tmodel = ARIMA(history, order=arima_order)\n",
        "\t\tmodel_fit = model.fit(disp=0)\n",
        "\t\tyhat = model_fit.forecast()[0]\n",
        "\t\tpredictions.append(yhat)\n",
        "\t\thistory.append(test[t])\n",
        "\t# calculate out of sample error\n",
        "\terror = mean_squared_error(test, predictions)\n",
        "\treturn error\n",
        "\n",
        "# evaluate combinations of p, d and q values for an ARIMA model\n",
        "def evaluate_models(dataset, p_values, d_values, q_values):\n",
        "\tdataset = dataset.astype('float32')\n",
        "\tbest_score, best_cfg = float(\"inf\"), None\n",
        "\tfor p in p_values:\n",
        "\t\tfor d in d_values:\n",
        "\t\t\tfor q in q_values:\n",
        "\t\t\t\torder = (p,d,q)\n",
        "\t\t\t\ttry:\n",
        "\t\t\t\t\tmse = evaluate_arima_model(dataset, order)\n",
        "\t\t\t\t\tif mse < best_score:\n",
        "\t\t\t\t\t\tbest_score, best_cfg = mse, order\n",
        "\t\t\t\t\tprint('ARIMA%s MSE=%.3f' % (order,mse))\n",
        "\t\t\t\texcept:\n",
        "\t\t\t\t\tcontinue\n",
        "\tprint('Best ARIMA%s MSE=%.3f' % (best_cfg, best_score))\n",
        "\n",
        "# load dataset\n",
        "def parser(x):\n",
        "\treturn datetime.strptime('190'+x, '%Y-%m')\n",
        "url = 'https://raw.githubusercontent.com/ammarazlan/dataset/master/shampoo-sales.csv'\n",
        "# series = read_csv('shampoo-sales.csv', header=0, parse_dates=[0], index_col=0, squeeze=True, date_parser=parser)\n",
        "series = read_csv(url, header=0, parse_dates=[0], index_col=0, squeeze=True, date_parser=parser)\n",
        "# evaluate parameters\n",
        "p_values = [0, 1, 2, 4, 6, 8, 10]\n",
        "d_values = range(0, 3)\n",
        "q_values = range(0, 3)\n",
        "warnings.filterwarnings(\"ignore\")\n",
        "evaluate_models(series.values, p_values, d_values, q_values)"
      ],
      "execution_count": 1,
      "outputs": [
        {
          "output_type": "stream",
          "text": [
            "/usr/local/lib/python3.6/dist-packages/statsmodels/compat/pandas.py:56: FutureWarning: The pandas.core.datetools module is deprecated and will be removed in a future version. Please use the pandas.tseries module instead.\n",
            "  from pandas.core import datetools\n"
          ],
          "name": "stderr"
        },
        {
          "output_type": "stream",
          "text": [
            "ARIMA(0, 0, 0) MSE=52425.268\n",
            "ARIMA(0, 0, 1) MSE=38145.169\n",
            "ARIMA(0, 0, 2) MSE=23989.545\n",
            "ARIMA(0, 1, 0) MSE=18003.173\n",
            "ARIMA(0, 1, 1) MSE=9558.343\n",
            "ARIMA(0, 2, 0) MSE=67339.808\n",
            "ARIMA(0, 2, 1) MSE=18322.507\n",
            "ARIMA(1, 0, 0) MSE=23113.048\n",
            "ARIMA(1, 1, 0) MSE=7121.375\n",
            "ARIMA(1, 1, 1) MSE=7003.685\n",
            "ARIMA(1, 2, 0) MSE=18608.003\n",
            "ARIMA(2, 1, 0) MSE=5689.922\n",
            "ARIMA(2, 1, 1) MSE=7759.709\n",
            "ARIMA(2, 2, 0) MSE=9860.949\n",
            "ARIMA(4, 1, 0) MSE=6649.594\n",
            "ARIMA(4, 1, 1) MSE=6796.294\n",
            "ARIMA(4, 2, 0) MSE=7596.321\n",
            "ARIMA(4, 2, 1) MSE=4694.875\n",
            "ARIMA(6, 1, 0) MSE=6810.077\n",
            "ARIMA(6, 2, 0) MSE=6261.075\n",
            "ARIMA(8, 1, 0) MSE=6579.710\n",
            "Best ARIMA(4, 2, 1) MSE=4694.875\n"
          ],
          "name": "stdout"
        }
      ]
    }
  ]
}